{
 "cells": [
  {
   "cell_type": "code",
   "execution_count": 7,
   "id": "d66251a6",
   "metadata": {},
   "outputs": [
    {
     "name": "stdout",
     "output_type": "stream",
     "text": [
      "Shape of Matrix A: (10, 3)\n",
      "Shape of Matrix C: (10, 1)\n",
      "Dimensionality of the vector space: 3\n",
      "Number of vectors in the vector space: 10\n",
      "Rank of Matrix A: 3\n",
      "Cost of each product available for sale: [[ 1.]\n",
      " [55.]\n",
      " [18.]]\n"
     ]
    }
   ],
   "source": [
    "import numpy as np\n",
    "import pandas as pd\n",
    "\n",
    "# Load the Excel file\n",
    "FILEPATH = r'C:\\Users\\year3\\Downloads\\Lab Session Data.xlsx'  # Use raw string to avoid unicode error\n",
    "\n",
    "# Read all sheets from the Excel file\n",
    "dataframes = pd.read_excel(FILEPATH, sheet_name=None)\n",
    "\n",
    "# Extract the Purchase Data dataframe\n",
    "purchase_data = dataframes['Purchase data']\n",
    "\n",
    "# Display the head of the dataframe to understand its structure\n",
    "#print(purchase_data.head())\n",
    "\n",
    "# Segregate the data into matrices A and C\n",
    "# Matrix A will consist of the features (Candies, Mangoes, Milk Packets)\n",
    "# Matrix C will consist of the target variable (Payment)\n",
    "A = purchase_data[['Candies (#)', 'Mangoes (Kg)', 'Milk Packets (#)']].values\n",
    "C = purchase_data[['Payment (Rs)']].values\n",
    "\n",
    "# Check the shapes of A and C\n",
    "A_shape = A.shape\n",
    "C_shape = C.shape\n",
    "\n",
    "# Print the shapes of A and C\n",
    "print('Shape of Matrix A:', A_shape)\n",
    "print('Shape of Matrix C:', C_shape)\n",
    "\n",
    "# Calculate the dimensionality of the vector space\n",
    "vector_space_dimensionality = A_shape[1]  # Number of columns in A\n",
    "\n",
    "# Calculate the number of vectors in the vector space\n",
    "number_of_vectors = A_shape[0]  # Number of rows in A\n",
    "\n",
    "# Calculate the rank of Matrix A\n",
    "rank_A = np.linalg.matrix_rank(A)\n",
    "\n",
    "# Calculate the pseudo-inverse of Matrix A\n",
    "A_pseudo_inverse = np.linalg.pinv(A)\n",
    "\n",
    "# Calculate the cost of each product available for sale using the pseudo-inverse\n",
    "costs = A_pseudo_inverse @ C\n",
    "\n",
    "# Print the results\n",
    "print('Dimensionality of the vector space:', vector_space_dimensionality)\n",
    "print('Number of vectors in the vector space:', number_of_vectors)\n",
    "print('Rank of Matrix A:', rank_A)\n",
    "print('Cost of each product available for sale:', costs)\n"
   ]
  },
  {
   "cell_type": "code",
   "execution_count": 8,
   "id": "11fe9bb7",
   "metadata": {},
   "outputs": [
    {
     "name": "stdout",
     "output_type": "stream",
     "text": [
      "Model vector X for predicting the cost of the products: [[ 1.]\n",
      " [55.]\n",
      " [18.]]\n"
     ]
    }
   ],
   "source": [
    "# Calculate the model vector X for predicting the cost of the products available with the vendor\n",
    "X = A_pseudo_inverse @ C\n",
    "\n",
    "# Print the model vector X\n",
    "print('Model vector X for predicting the cost of the products:', X)\n"
   ]
  },
  {
   "cell_type": "code",
   "execution_count": 9,
   "id": "569b053a",
   "metadata": {},
   "outputs": [
    {
     "name": "stdout",
     "output_type": "stream",
     "text": [
      "              precision    recall  f1-score   support\n",
      "\n",
      "        POOR       0.67      1.00      0.80         2\n",
      "        RICH       0.00      0.00      0.00         1\n",
      "\n",
      "    accuracy                           0.67         3\n",
      "   macro avg       0.33      0.50      0.40         3\n",
      "weighted avg       0.44      0.67      0.53         3\n",
      "\n"
     ]
    },
    {
     "name": "stderr",
     "output_type": "stream",
     "text": [
      "C:\\ProgramData\\anaconda3\\Lib\\site-packages\\sklearn\\metrics\\_classification.py:1469: UndefinedMetricWarning: Precision and F-score are ill-defined and being set to 0.0 in labels with no predicted samples. Use `zero_division` parameter to control this behavior.\n",
      "  _warn_prf(average, modifier, msg_start, len(result))\n",
      "C:\\ProgramData\\anaconda3\\Lib\\site-packages\\sklearn\\metrics\\_classification.py:1469: UndefinedMetricWarning: Precision and F-score are ill-defined and being set to 0.0 in labels with no predicted samples. Use `zero_division` parameter to control this behavior.\n",
      "  _warn_prf(average, modifier, msg_start, len(result))\n",
      "C:\\ProgramData\\anaconda3\\Lib\\site-packages\\sklearn\\metrics\\_classification.py:1469: UndefinedMetricWarning: Precision and F-score are ill-defined and being set to 0.0 in labels with no predicted samples. Use `zero_division` parameter to control this behavior.\n",
      "  _warn_prf(average, modifier, msg_start, len(result))\n"
     ]
    }
   ],
   "source": [
    "from sklearn.model_selection import train_test_split\n",
    "from sklearn.linear_model import LogisticRegression\n",
    "from sklearn.metrics import classification_report\n",
    "\n",
    "# Mark customers as RICH or POOR\n",
    "purchase_data['Customer Class'] = np.where(purchase_data['Payment (Rs)'] > 200, 'RICH', 'POOR')\n",
    "\n",
    "# Prepare the data for classification\n",
    "X = purchase_data[['Candies (#)', 'Mangoes (Kg)', 'Milk Packets (#)']].values\n",
    "y = purchase_data['Customer Class'].values\n",
    "\n",
    "# Split the data into training and test sets\n",
    "X_train, X_test, y_train, y_test = train_test_split(X, y, test_size=0.3, random_state=42)\n",
    "\n",
    "# Initialize and train the classifier model\n",
    "classifier = LogisticRegression()\n",
    "classifier.fit(X_train, y_train)\n",
    "\n",
    "# Predict the class for the test set\n",
    "y_pred = classifier.predict(X_test)\n",
    "\n",
    "# Print the classification report\n",
    "print(classification_report(y_test, y_pred))\n"
   ]
  },
  {
   "cell_type": "code",
   "execution_count": null,
   "id": "a39e58c5",
   "metadata": {},
   "outputs": [],
   "source": []
  }
 ],
 "metadata": {
  "kernelspec": {
   "display_name": "Python 3 (ipykernel)",
   "language": "python",
   "name": "python3"
  },
  "language_info": {
   "codemirror_mode": {
    "name": "ipython",
    "version": 3
   },
   "file_extension": ".py",
   "mimetype": "text/x-python",
   "name": "python",
   "nbconvert_exporter": "python",
   "pygments_lexer": "ipython3",
   "version": "3.11.4"
  }
 },
 "nbformat": 4,
 "nbformat_minor": 5
}
