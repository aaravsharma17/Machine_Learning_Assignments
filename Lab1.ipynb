{
 "cells": [
  {
   "cell_type": "code",
   "execution_count": 2,
   "id": "e86a77ad",
   "metadata": {},
   "outputs": [
    {
     "name": "stdout",
     "output_type": "stream",
     "text": [
      "Enter the String : Vivek Kumar Shah\n",
      "Vowels: 5\n",
      "Consonants: 9\n"
     ]
    }
   ],
   "source": [
    "def count(s):\n",
    "    count_vowel = 0\n",
    "    count_cons = 0\n",
    "    i = 0\n",
    "    \n",
    "    while i < len(s):\n",
    "        char = s[i]\n",
    "        if char in 'AEIOUaeiou':\n",
    "            count_vowel += 1\n",
    "        elif char.isalpha():  # Check if the character is a letter\n",
    "            count_cons += 1\n",
    "        i += 1\n",
    "    \n",
    "    return count_vowel, count_cons\n",
    "\n",
    "def main():\n",
    "    test_string = input(\"Enter the String : \")\n",
    "    vowels, consonants = count(test_string)\n",
    "    print(f\"Vowels: {vowels}\")\n",
    "    print(f\"Consonants: {consonants}\")\n",
    "\n",
    "if __name__ == \"__main__\":\n",
    "    main()\n"
   ]
  },
  {
   "cell_type": "code",
   "execution_count": 1,
   "id": "d62fa170",
   "metadata": {},
   "outputs": [
    {
     "name": "stdout",
     "output_type": "stream",
     "text": [
      "Enter the size: 2\n",
      "Enter elements of matrix A:\n",
      "34 13\n",
      "14 24\n",
      "Enter elements of matrix B:\n",
      "14 57\n",
      "12 3\n",
      "Resultant matrix C:\n",
      "632 1977\n",
      "484 870\n"
     ]
    }
   ],
   "source": [
    "def matrix_mul(A, B, n):\n",
    "    # Initialize result matrix C with zeros\n",
    "    C = [[0] * n for _ in range(n)]\n",
    "    \n",
    "    # Perform matrix multiplication\n",
    "    for i in range(n):\n",
    "        for j in range(n):\n",
    "            for k in range(n):\n",
    "                C[i][j] += A[i][k] * B[k][j]\n",
    "    \n",
    "    return C\n",
    "\n",
    "def input_matrix(size, name):\n",
    "    \"\"\"Function to input a matrix of given size.\"\"\"\n",
    "    matrix = []\n",
    "    print(f\"Enter elements of matrix {name} row-wise (space-separated values):\")\n",
    "    for _ in range(size):\n",
    "        while True:\n",
    "            try:\n",
    "                row = list(map(int, input().split()))\n",
    "                if len(row) != size:\n",
    "                    raise ValueError(\"Row does not match the specified size.\")\n",
    "                matrix.append(row)\n",
    "                break\n",
    "            except ValueError as ve:\n",
    "                print(f\"Invalid input: {ve}. Please try again.\")\n",
    "    return matrix\n",
    "\n",
    "def main():\n",
    "    while True:\n",
    "        try:\n",
    "            n = int(input(\"Enter the size of the matrices (n x n): \"))\n",
    "            if n <= 0:\n",
    "                raise ValueError(\"Size must be a positive integer.\")\n",
    "            break\n",
    "        except ValueError as ve:\n",
    "            print(f\"Invalid input: {ve}. Please try again.\")\n",
    "    \n",
    "    # Input matrices A and B\n",
    "    A = input_matrix(n, 'A')\n",
    "    B = input_matrix(n, 'B')\n",
    "    \n",
    "    # Multiply matrices\n",
    "    C = matrix_mul(A, B, n)\n",
    "    \n",
    "    # Print the resultant matrix C\n",
    "    print(\"Resultant matrix C:\")\n",
    "    for row in C:\n",
    "        print(\" \".join(map(str, row)))\n",
    "\n",
    "if __name__ == \"__main__\":\n",
    "    main()\n"
   ]
  },
  {
   "cell_type": "code",
   "execution_count": 9,
   "id": "f264c243",
   "metadata": {},
   "outputs": [
    {
     "name": "stdout",
     "output_type": "stream",
     "text": [
      "Enter the size of list 1: 3\n",
      "Enter elements of list 1:\n",
      "13\n",
      "23\n",
      "15\n",
      "Enter the size of list 2: 5\n",
      "Enter elements of list 2:\n",
      "12\n",
      "13\n",
      "14\n",
      "15\n",
      "45\n",
      "Number of common elements: 2\n"
     ]
    }
   ],
   "source": [
    "def check(A, B, n1, n2):\n",
    "    count = 0\n",
    "    for i in range(n1):\n",
    "        for j in range(n2):\n",
    "            if A[i] == B[j]:\n",
    "                count += 1\n",
    "    return count\n",
    "\n",
    "def main():\n",
    "    A = []\n",
    "    B = []\n",
    "    \n",
    "    n1 = int(input(\"Enter the size of list 1: \"))\n",
    "    print(\"Enter elements of list 1:\")\n",
    "    for i in range(n1):\n",
    "        A.append(int(input()))\n",
    "        \n",
    "    n2 = int(input(\"Enter the size of list 2: \"))\n",
    "    print(\"Enter elements of list 2:\")\n",
    "    for j in range(n2):\n",
    "        B.append(int(input()))\n",
    "        \n",
    "    c = check(A, B, n1, n2)\n",
    "    print(\"Number of common elements:\", c)\n",
    "\n",
    "if __name__ == \"__main__\":\n",
    "    main()\n",
    "\n",
    "        "
   ]
  },
  {
   "cell_type": "code",
   "execution_count": 10,
   "id": "a900eb02",
   "metadata": {},
   "outputs": [
    {
     "name": "stdout",
     "output_type": "stream",
     "text": [
      "Enter the number of rows: 3\n",
      "Enter the number of columns: 2\n",
      "Enter the elements of the matrix row-wise:\n",
      "12 12 45\n",
      "1 5 2\n",
      "34 12 56\n",
      "Original matrix:\n",
      "12 12 45\n",
      "1 5 2\n",
      "34 12 56\n",
      "Transposed matrix:\n",
      "12 1 34\n",
      "12 5 12\n"
     ]
    }
   ],
   "source": [
    "def transpose(A, n, m):\n",
    "    # Create a new matrix to store the transpose\n",
    "    transposed = [[0] * n for _ in range(m)]\n",
    "    \n",
    "    for i in range(n):\n",
    "        for j in range(m):\n",
    "            transposed[j][i] = A[i][j]\n",
    "    \n",
    "    return transposed\n",
    "\n",
    "def main():\n",
    "    n = int(input(\"Enter the number of rows: \"))\n",
    "    m = int(input(\"Enter the number of columns: \"))\n",
    "    \n",
    "    A = []\n",
    "    print(\"Enter the elements of the matrix row-wise:\")\n",
    "    for i in range(n):\n",
    "        row = list(map(int, input().split()))\n",
    "        A.append(row)\n",
    "    \n",
    "    print(\"Original matrix:\")\n",
    "    for row in A:\n",
    "        print(\" \".join(map(str, row)))\n",
    "    \n",
    "    transposed_A = transpose(A, n, m)\n",
    "    \n",
    "    print(\"Transposed matrix:\")\n",
    "    for row in transposed_A:\n",
    "        print(\" \".join(map(str, row)))\n",
    "\n",
    "if __name__ == \"__main__\":\n",
    "    main()\n"
   ]
  },
  {
   "cell_type": "code",
   "execution_count": null,
   "id": "5c517965",
   "metadata": {},
   "outputs": [],
   "source": []
  },
  {
   "cell_type": "code",
   "execution_count": null,
   "id": "cf03f8e0",
   "metadata": {},
   "outputs": [],
   "source": []
  },
  {
   "cell_type": "code",
   "execution_count": null,
   "id": "080ee181",
   "metadata": {},
   "outputs": [],
   "source": []
  },
  {
   "cell_type": "code",
   "execution_count": null,
   "id": "579fa586",
   "metadata": {},
   "outputs": [],
   "source": []
  },
  {
   "cell_type": "code",
   "execution_count": null,
   "id": "8d6abe10",
   "metadata": {},
   "outputs": [],
   "source": []
  },
  {
   "cell_type": "code",
   "execution_count": null,
   "id": "ebd55f58",
   "metadata": {},
   "outputs": [],
   "source": []
  },
  {
   "cell_type": "code",
   "execution_count": null,
   "id": "429d1edd",
   "metadata": {},
   "outputs": [],
   "source": []
  }
 ],
 "metadata": {
  "kernelspec": {
   "display_name": "Python 3 (ipykernel)",
   "language": "python",
   "name": "python3"
  },
  "language_info": {
   "codemirror_mode": {
    "name": "ipython",
    "version": 3
   },
   "file_extension": ".py",
   "mimetype": "text/x-python",
   "name": "python",
   "nbconvert_exporter": "python",
   "pygments_lexer": "ipython3",
   "version": "3.11.4"
  }
 },
 "nbformat": 4,
 "nbformat_minor": 5
}
