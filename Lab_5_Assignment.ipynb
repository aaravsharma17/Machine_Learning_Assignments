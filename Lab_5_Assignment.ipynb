{
 "cells": [
  {
   "cell_type": "code",
   "execution_count": 4,
   "id": "efdb752d",
   "metadata": {},
   "outputs": [
    {
     "name": "stdout",
     "output_type": "stream",
     "text": [
      "             0           1           2            3           4            5  \\\n",
      "0  38687.88477  192.737565  188.366005  2348.285240  188.609889  3359.777672   \n",
      "1  29532.98806  -54.124623  -22.492524  1648.326090   35.160362  1980.716201   \n",
      "2  29511.41174  -54.495937  -25.026162  1658.645198   34.814464  2008.855279   \n",
      "3  29060.40637  -19.466804  -11.668273  1487.612245    7.675333  1788.287900   \n",
      "4  29039.93589  -19.725400   -9.218980  1497.054471    8.947552  1815.189691   \n",
      "\n",
      "            6           7          8           9  ...         187         188  \\\n",
      "0 -454.999177 -201.722600 -42.369585 -277.176688  ...  225.163042  375.848590   \n",
      "1  144.818556   38.937042  56.479929   79.150981  ... -110.815428 -112.520155   \n",
      "2  145.774409   42.363949  56.631487   84.338212  ... -111.628888 -113.504989   \n",
      "3   49.023922   24.901637  47.767988   42.011626  ...   -5.242054  -79.615224   \n",
      "4   49.680814   22.071049  48.720409   37.361647  ...   -5.661566  -82.903805   \n",
      "\n",
      "          189         190        191         192         193         194  \\\n",
      "0  -25.502103 -323.360801 -37.705123 -210.361583 -107.039989 -180.598400   \n",
      "1   80.464341   62.949615 -41.839087   35.049056  -90.838441   81.998960   \n",
      "2   80.598537   64.218283 -42.996801   35.926709  -94.681206   82.389334   \n",
      "3  165.018166  177.905061 -50.329188   88.189776  -56.963265  -63.527378   \n",
      "4  166.929649  179.234546 -53.045528   88.144964  -60.471382  -63.239210   \n",
      "\n",
      "          195  LABEL  \n",
      "0 -151.319809   3333  \n",
      "1  -92.591774   3333  \n",
      "2  -98.420772   3333  \n",
      "3   14.576799   3333  \n",
      "4   13.008128   3333  \n",
      "\n",
      "[5 rows x 197 columns]\n",
      "[[ 192.7375646   188.3660054  2348.28524    ... -180.5984\n",
      "  -151.3198086  3333.        ]\n",
      " [ -54.12462334  -22.49252426 1648.32609    ...   81.99895975\n",
      "   -92.59177399 3333.        ]\n",
      " [ -54.49593713  -25.02616239 1658.645198   ...   82.38933442\n",
      "   -98.42077211 3333.        ]\n",
      " ...\n",
      " [ 346.619982     43.8237955  1314.651432   ...  -98.89861136\n",
      "   -90.07138704 3454.        ]\n",
      " [ 344.9709137    44.19744455 1312.348411   ... -106.9156989\n",
      "  -103.5072617  3454.        ]\n",
      " [ 329.1195907    48.86241141  975.0104211  ... -130.4802831\n",
      "  -103.2014324  3454.        ]]\n",
      "\n",
      "\n",
      "[38687.88477 29532.98806 29511.41174 ... 33276.4149  33278.26695\n",
      " 33006.65196]\n"
     ]
    }
   ],
   "source": [
    "import pandas as pd\n",
    "import numpy as np\n",
    "from sklearn.model_selection import train_test_split\n",
    "from sklearn.linear_model import LinearRegression\n",
    "from sklearn.metrics import mean_squared_error, r2_score, mean_absolute_percentage_error\n",
    "from sklearn.cluster import KMeans\n",
    "from sklearn.metrics import silhouette_score, calinski_harabasz_score, davies_bouldin_score\n",
    "import matplotlib.pyplot as plt\n",
    "\n",
    "# Load the dataset\n",
    "df = pd.read_csv(r'C:\\Users\\year3\\Downloads\\DCT_withoutduplicate 5.csv')\n",
    "\n",
    "# displaying top 5 rows from the dataset\n",
    "print(df.head())\n",
    "\n",
    "# A1: Train a Linear Regression Model\n",
    "# Assuming the first column is the target and others are features\n",
    "X = df.iloc[:, 1:].values  # Features\n",
    "y = df.iloc[:, 0].values  # Target\n",
    "\n",
    "print(X)\n",
    "print(\"\\n\")\n",
    "print(y)\n",
    "\n",
    "# Split the data into training and test sets\n",
    "X_train, X_test, y_train, y_test = train_test_split(X, y, test_size=0.2, random_state=42)\n",
    "\n",
    "# Initialize and train the model\n",
    "reg = LinearRegression().fit(X_train, y_train)\n",
    "\n",
    "# Predictions\n",
    "y_train_pred = reg.predict(X_train)\n",
    "y_test_pred = reg.predict(X_test)"
   ]
  },
  {
   "cell_type": "code",
   "execution_count": 5,
   "id": "ef92ec0b",
   "metadata": {},
   "outputs": [
    {
     "name": "stdout",
     "output_type": "stream",
     "text": [
      "Training Metrics: MSE=1702333.9967695954, RMSE=1304.7352209431597, MAPE=6.9797954090648856e+16, R2=0.9011004697500048\n",
      "Test Metrics: MSE=22545035.076283157, RMSE=4748.161231074947, MAPE=1.1151971169678012e+18, R2=0.22616819689248624\n"
     ]
    }
   ],
   "source": [
    "# A2: Calculate Metrics for the Regression Model\n",
    "def regression_metrics(y_true, y_pred):\n",
    "    mse = mean_squared_error(y_true, y_pred)\n",
    "    rmse = np.sqrt(mse)\n",
    "    mape = mean_absolute_percentage_error(y_true, y_pred)\n",
    "    r2 = r2_score(y_true, y_pred)\n",
    "    return mse, rmse, mape, r2\n",
    "\n",
    "# Metrics for training set\n",
    "mse_train, rmse_train, mape_train, r2_train = regression_metrics(y_train, y_train_pred)\n",
    "print(f'Training Metrics: MSE={mse_train}, RMSE={rmse_train}, MAPE={mape_train}, R2={r2_train}')\n",
    "\n",
    "# Metrics for test set\n",
    "mse_test, rmse_test, mape_test, r2_test = regression_metrics(y_test, y_test_pred)\n",
    "print(f'Test Metrics: MSE={mse_test}, RMSE={rmse_test}, MAPE={mape_test}, R2={r2_test}')\n"
   ]
  },
  {
   "cell_type": "code",
   "execution_count": null,
   "id": "0120c331",
   "metadata": {},
   "outputs": [],
   "source": []
  }
 ],
 "metadata": {
  "kernelspec": {
   "display_name": "Python 3 (ipykernel)",
   "language": "python",
   "name": "python3"
  },
  "language_info": {
   "codemirror_mode": {
    "name": "ipython",
    "version": 3
   },
   "file_extension": ".py",
   "mimetype": "text/x-python",
   "name": "python",
   "nbconvert_exporter": "python",
   "pygments_lexer": "ipython3",
   "version": "3.9.13"
  }
 },
 "nbformat": 4,
 "nbformat_minor": 5
}
